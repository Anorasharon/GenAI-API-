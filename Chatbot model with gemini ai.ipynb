{
 "cells": [
  {
   "cell_type": "code",
   "execution_count": 1,
   "id": "66a27d17-8bb6-456c-bfd0-32dad42d6183",
   "metadata": {},
   "outputs": [
    {
     "name": "stderr",
     "output_type": "stream",
     "text": [
      "C:\\Users\\anora\\AppData\\Local\\Programs\\Python\\Python313\\Lib\\site-packages\\tqdm\\auto.py:21: TqdmWarning: IProgress not found. Please update jupyter and ipywidgets. See https://ipywidgets.readthedocs.io/en/stable/user_install.html\n",
      "  from .autonotebook import tqdm as notebook_tqdm\n"
     ]
    },
    {
     "name": "stdin",
     "output_type": "stream",
     "text": [
      "What type of chatbot would you like to create?\n",
      " chef\n"
     ]
    },
    {
     "name": "stdout",
     "output_type": "stream",
     "text": [
      "Your new assistant is ready!\n"
     ]
    },
    {
     "name": "stdin",
     "output_type": "stream",
     "text": [
      " cake receipe\n"
     ]
    },
    {
     "name": "stdout",
     "output_type": "stream",
     "text": [
      "\n",
      "This recipe makes a basic vanilla cake.  You can easily adapt it by adding different extracts, fillings, or frostings.\n",
      "\n",
      "**Ingredients:**\n",
      "\n",
      "* **Cake:**\n",
      "    * 2 cups (250g) all-purpose flour\n",
      "    * 2 cups (400g) granulated sugar\n",
      "    * 3 1/2 teaspoons baking powder\n",
      "    * 1/2 teaspoon baking soda\n",
      "    * 1 teaspoon salt\n",
      "    * 1 cup (240ml) buttermilk\n",
      "    * 1/2 cup (120ml) vegetable oil\n",
      "    * 2 large eggs\n",
      "    * 2 teaspoons vanilla extract\n",
      "    * 1 cup (240ml) boiling water\n",
      "\n",
      "\n",
      "* **Simple Buttercream Frosting (optional):**\n",
      "    * 1 cup (2 sticks) unsalted butter, softened\n",
      "    * 3-4 cups powdered sugar\n",
      "    * 1/4 cup milk\n",
      "    * 1 teaspoon vanilla extract\n",
      "\n",
      "\n",
      "**Instructions:**\n",
      "\n",
      "**Cake:**\n",
      "\n",
      "1. **Preheat oven to 350°F (175°C).** Grease and flour two 9-inch round baking pans.  You can also line the bottom with parchment paper for easier removal.\n",
      "2. **Whisk dry ingredients:** In a large bowl, whisk together the flour, sugar, baking powder, baking soda, and salt.\n",
      "3. **Combine wet ingredients:** In a separate bowl, whisk together the buttermilk, oil, eggs, and vanilla extract.\n",
      "4. **Combine wet and dry:** Gradually add the wet ingredients to the dry ingredients, mixing on low speed until just combined.\n",
      "5. **Add boiling water:** Carefully pour in the boiling water and mix until the batter is smooth.  The batter will be thin.\n",
      "6. **Pour batter into pans:** Divide the batter evenly between the prepared pans.\n",
      "7. **Bake:** Bake for 30-35 minutes, or until a wooden skewer inserted into the center comes out clean.\n",
      "8. **Cool:** Let the cakes cool in the pans for 10 minutes before inverting them onto a wire rack to cool completely.\n",
      "\n",
      "\n",
      "**Simple Buttercream Frosting:**\n",
      "\n",
      "1. **Beat butter:** In a large bowl, beat the softened butter with an electric mixer until light and fluffy.\n",
      "2. **Add powdered sugar:** Gradually add the powdered sugar, one cup at a time, beating well after each addition.\n",
      "3. **Add milk and vanilla:** Add the milk and vanilla extract and beat until smooth and creamy.  Add more powdered sugar if needed to reach desired consistency.\n",
      "\n",
      "\n",
      "**Assembly:**\n",
      "\n",
      "1. Once the cakes are completely cool, frost the top of one layer with a generous amount of frosting.\n",
      "2. Carefully place the second cake layer on top.\n",
      "3. Frost the entire cake with the remaining frosting.\n",
      "\n",
      "\n",
      "**Tips and Variations:**\n",
      "\n",
      "* For a richer cake, use melted butter instead of oil.\n",
      "* Add chocolate chips, nuts, or fruit to the batter.\n",
      "* Use different extracts like almond, lemon, or peppermint.\n",
      "* Try different frostings like cream cheese frosting or chocolate ganache.\n",
      "* For a layer cake, use 3 8-inch round pans and adjust baking time accordingly.\n",
      "\n",
      "\n",
      "Enjoy your homemade cake! Remember to adjust baking time depending on your oven.  Start checking for doneness around the 30-minute mark.\n",
      "\n",
      "\n"
     ]
    },
    {
     "name": "stdin",
     "output_type": "stream",
     "text": [
      " green gram receipe in kettle without onion and tomato\n"
     ]
    },
    {
     "name": "stdout",
     "output_type": "stream",
     "text": [
      "\n",
      "This recipe uses a pressure cooker/kettle (assuming you mean a pressure cooker), avoiding onions and tomatoes.  Adjust cooking times based on your pressure cooker's specifications.\n",
      "\n",
      "**Green Gram (Mung Bean) Curry without Onion & Tomato**\n",
      "\n",
      "**Yields:** 4 servings\n",
      "**Prep time:** 10 minutes\n",
      "**Cook time:** 20-25 minutes\n",
      "\n",
      "\n",
      "**Ingredients:**\n",
      "\n",
      "* 1 cup green gram (split or whole, rinsed)\n",
      "* 3 cups water\n",
      "* 1 inch ginger, grated\n",
      "* 2-3 green chilies, slit (adjust to your spice preference)\n",
      "* 1 tsp turmeric powder\n",
      "* 1 tsp cumin powder\n",
      "* 1/2 tsp coriander powder\n",
      "* 1/4 tsp mustard seeds\n",
      "* 1/4 tsp asafoetida (hing, optional)\n",
      "* 1/2 tsp red chili powder (or more, to taste)\n",
      "* 1/4 cup chopped cilantro\n",
      "* 2 tbsp oil or ghee\n",
      "* Salt to taste\n",
      "* A squeeze of lemon juice (optional)\n",
      "\n",
      "\n",
      "**Instructions:**\n",
      "\n",
      "1. **Pressure Cook the Green Gram:**  Add the rinsed green gram and water to your pressure cooker.  Close the lid and cook on high pressure for 3-4 whistles (or until the beans are soft).  Allow the pressure to release naturally.\n",
      "\n",
      "2. **Temper the Spices:** While the green gram is cooking, heat the oil or ghee in a small pan. Add the mustard seeds and let them splutter. Add the asafoetida (if using) and green chilies. Sauté for a few seconds until fragrant.\n",
      "\n",
      "3. **Combine and Simmer:** Open the pressure cooker and gently mash some of the cooked green gram with a spoon or potato masher (leave some whole for texture).  Add the tempered spices, grated ginger, turmeric powder, cumin powder, coriander powder, and red chili powder to the cooked green gram. Stir well to combine.\n",
      "\n",
      "4. **Season and Finish:** Add salt to taste and simmer for 5-7 minutes, stirring occasionally, to allow the flavors to meld.  Stir in the chopped cilantro.  If desired, squeeze in a little lemon juice for extra tang.\n",
      "\n",
      "5. **Serve:** Serve hot with rice, roti, or chapati.\n",
      "\n",
      "\n",
      "**Notes:**\n",
      "\n",
      "* For a smoother curry, blend a portion of the cooked green gram before adding the spices.\n",
      "* You can adjust the amount of water depending on your desired consistency. Add more for a soupier curry.\n",
      "* Feel free to add other spices like curry leaves, fenugreek seeds (methi), or garam masala for a richer flavor.\n",
      "* If using whole green gram, increase the cooking time.\n",
      "\n",
      "\n",
      "\n",
      "Enjoy your delicious and healthy green gram curry! Remember to always exercise caution when using a pressure cooker.\n",
      "\n",
      "\n"
     ]
    },
    {
     "name": "stdin",
     "output_type": "stream",
     "text": [
      " quit\n"
     ]
    }
   ],
   "source": [
    "import google.generativeai as genai\n",
    "\n",
    "# Configure API key\n",
    "genai.configure(api_key=\"ur api key here\")  # Replace with your actual Gemini API key\n",
    "\n",
    "# Initialize conversation\n",
    "system_msg = input(\"What type of chatbot would you like to create?\\n\")\n",
    "\n",
    "print(\"Your new assistant is ready!\")\n",
    "\n",
    "model = genai.GenerativeModel(\"gemini-1.5-flash\")\n",
    "\n",
    "# Start chatbot loop\n",
    "while True:\n",
    "    user_input = input()\n",
    "    if user_input.lower() == \"quit\":\n",
    "        break\n",
    "\n",
    "    # Send user input directly (Gemini does not use \"role\")\n",
    "    response = model.generate_content(user_input)\n",
    "\n",
    "    # Extract response\n",
    "    reply = response.text\n",
    "\n",
    "    print(\"\\n\" + reply + \"\\n\")\n"
   ]
  },
  {
   "cell_type": "code",
   "execution_count": null,
   "id": "903167c7-5d98-452f-acbf-13127c1e0ac6",
   "metadata": {},
   "outputs": [],
   "source": []
  },
  {
   "cell_type": "code",
   "execution_count": null,
   "id": "32b331fa-093c-4450-b735-0b4e7bdfd355",
   "metadata": {},
   "outputs": [],
   "source": []
  }
 ],
 "metadata": {
  "kernelspec": {
   "display_name": "Python 3 (ipykernel)",
   "language": "python",
   "name": "python3"
  },
  "language_info": {
   "codemirror_mode": {
    "name": "ipython",
    "version": 3
   },
   "file_extension": ".py",
   "mimetype": "text/x-python",
   "name": "python",
   "nbconvert_exporter": "python",
   "pygments_lexer": "ipython3",
   "version": "3.13.7"
  }
 },
 "nbformat": 4,
 "nbformat_minor": 5
}
